{
 "cells": [
  {
   "cell_type": "markdown",
   "id": "16bb2692-b88d-4eb0-b25b-fb96b82766be",
   "metadata": {},
   "source": [
    "## PPT ASSIGNMENT 5th"
   ]
  },
  {
   "cell_type": "markdown",
   "id": "9cf81976-0ee2-4782-9eb9-c810792c833d",
   "metadata": {},
   "source": [
    "## 1:ans:-"
   ]
  },
  {
   "cell_type": "code",
   "execution_count": 1,
   "id": "4ef21498-7d7a-4ce2-9300-7e5e2244abba",
   "metadata": {},
   "outputs": [],
   "source": [
    "def convert_to_2d(original, m, n):\n",
    "    if len(original) != m * n:\n",
    "        return [[]]  # Return empty 2D array\n",
    "\n",
    "    result = [[0] * n for _ in range(m)]\n",
    "    for i in range(len(original)):\n",
    "        row = i // n  # Integer division to determine the row index\n",
    "        col = i % n   # Modulo operation to determine the column index\n",
    "        result[row][col] = original[i]\n",
    "\n",
    "    return result\n"
   ]
  },
  {
   "cell_type": "code",
   "execution_count": 2,
   "id": "a3a464f4-9373-4be7-82a8-bac3aa79d9e1",
   "metadata": {},
   "outputs": [
    {
     "name": "stdout",
     "output_type": "stream",
     "text": [
      "[[1, 2, 3], [4, 5, 6]]\n"
     ]
    }
   ],
   "source": [
    "original = [1, 2, 3, 4, 5, 6]\n",
    "m = 2\n",
    "n = 3\n",
    "print(convert_to_2d(original, m, n))\n"
   ]
  },
  {
   "cell_type": "markdown",
   "id": "e37f5317-b356-4011-aae8-3afd36053909",
   "metadata": {},
   "source": [
    "## 2:ans:-"
   ]
  },
  {
   "cell_type": "code",
   "execution_count": 3,
   "id": "b18fd69a-745e-4dec-82da-4acb4db3bbb2",
   "metadata": {},
   "outputs": [],
   "source": [
    "def count_complete_rows(n):\n",
    "    k = 0\n",
    "    total_coins = 0\n",
    "\n",
    "    while total_coins <= n:\n",
    "        k += 1\n",
    "        total_coins += k\n",
    "\n",
    "    return k - 1\n"
   ]
  },
  {
   "cell_type": "code",
   "execution_count": 4,
   "id": "15d86c16-750b-4bcb-814c-5f911e3bed96",
   "metadata": {},
   "outputs": [
    {
     "name": "stdout",
     "output_type": "stream",
     "text": [
      "4\n"
     ]
    }
   ],
   "source": [
    "n = 10\n",
    "result = count_complete_rows(n)\n",
    "print(result)  \n"
   ]
  },
  {
   "cell_type": "markdown",
   "id": "e2a65f0f-a2e0-4339-a029-18108251d066",
   "metadata": {},
   "source": [
    "## 3:ans:-"
   ]
  },
  {
   "cell_type": "code",
   "execution_count": 5,
   "id": "77190dd5-9ad2-46e5-8155-b7ecfb1456ac",
   "metadata": {},
   "outputs": [],
   "source": [
    "def sortedSquares(nums):\n",
    "    result = []\n",
    "    for num in nums:\n",
    "        result.append(num * num)\n",
    "    result.sort()\n",
    "    return result\n"
   ]
  },
  {
   "cell_type": "code",
   "execution_count": 6,
   "id": "599706c8-b380-4e96-b5a7-d67ad146d841",
   "metadata": {},
   "outputs": [
    {
     "name": "stdout",
     "output_type": "stream",
     "text": [
      "[0, 1, 9, 16, 100]\n"
     ]
    }
   ],
   "source": [
    "nums = [-4, -1, 0, 3, 10]\n",
    "squared_nums = sortedSquares(nums)\n",
    "print(squared_nums)\n"
   ]
  },
  {
   "cell_type": "markdown",
   "id": "baa63c40-271f-4658-9e0a-307ad54a70dc",
   "metadata": {},
   "source": [
    "## 4:ans:-"
   ]
  },
  {
   "cell_type": "code",
   "execution_count": 7,
   "id": "a7a3ce2e-6975-4cfc-a943-aeb507ddcb72",
   "metadata": {},
   "outputs": [],
   "source": [
    "def find_disjoint_integers(nums1, nums2):\n",
    "    set1 = set(nums1)\n",
    "    set2 = set(nums2)\n",
    "\n",
    "    distinct_nums1 = list(set1 - set2)\n",
    "    distinct_nums2 = list(set2 - set1)\n",
    "\n",
    "    return [distinct_nums1, distinct_nums2]\n"
   ]
  },
  {
   "cell_type": "code",
   "execution_count": 8,
   "id": "4e901149-533c-42f1-9ebe-a51353d2c9ff",
   "metadata": {},
   "outputs": [
    {
     "name": "stdout",
     "output_type": "stream",
     "text": [
      "[[1, 2, 3], [8, 6, 7]]\n"
     ]
    }
   ],
   "source": [
    "nums1 = [1, 2, 3, 4, 5]\n",
    "nums2 = [4, 5, 6, 7, 8]\n",
    "answer = find_disjoint_integers(nums1, nums2)\n",
    "print(answer)\n"
   ]
  },
  {
   "cell_type": "markdown",
   "id": "48fbc7f1-bb0e-4f88-8788-388425cb3db6",
   "metadata": {},
   "source": [
    "## 5:ans:-"
   ]
  },
  {
   "cell_type": "code",
   "execution_count": 9,
   "id": "bbd3331d-c351-42bc-81ac-3c47a0ea2242",
   "metadata": {},
   "outputs": [],
   "source": [
    "def distance_value(arr1, arr2, d):\n",
    "    distance = 0\n",
    "    for num1 in arr1:\n",
    "        for num2 in arr2:\n",
    "            if abs(num1 - num2) <= d:\n",
    "                break\n",
    "        else:\n",
    "            distance += 1\n",
    "    return distance\n"
   ]
  },
  {
   "cell_type": "code",
   "execution_count": 10,
   "id": "e6b319a1-8a67-48ec-bb2d-dce6800e060b",
   "metadata": {},
   "outputs": [
    {
     "name": "stdout",
     "output_type": "stream",
     "text": [
      "3\n"
     ]
    }
   ],
   "source": [
    "arr1 = [1, 2, 3, 4, 5]\n",
    "arr2 = [6, 7, 8, 9, 10]\n",
    "d = 2\n",
    "\n",
    "result = distance_value(arr1, arr2, d)\n",
    "print(result)\n"
   ]
  },
  {
   "cell_type": "markdown",
   "id": "33f3a5c1-9a80-4ab0-b516-a304b56b2964",
   "metadata": {},
   "source": [
    "## 6:ans:-"
   ]
  },
  {
   "cell_type": "code",
   "execution_count": 1,
   "id": "13127c90-95ac-4046-9015-80ae5e41fbd7",
   "metadata": {},
   "outputs": [],
   "source": [
    "def findDuplicates(nums):\n",
    "    duplicates = []\n",
    "\n",
    "    for i in range(len(nums)):\n",
    "        index = abs(nums[i]) - 1\n",
    "        if nums[index] > 0:\n",
    "            nums[index] *= -1\n",
    "        else:\n",
    "            duplicates.append(abs(nums[i]))\n",
    "\n",
    "    return duplicates\n"
   ]
  },
  {
   "cell_type": "code",
   "execution_count": 2,
   "id": "3f357169-cd91-40af-b595-fbb06f552971",
   "metadata": {},
   "outputs": [
    {
     "name": "stdout",
     "output_type": "stream",
     "text": [
      "[2, 3]\n"
     ]
    }
   ],
   "source": [
    "nums = [4, 3, 2, 7, 8, 2, 3, 1]\n",
    "print(findDuplicates(nums))\n"
   ]
  },
  {
   "cell_type": "markdown",
   "id": "8126d050-5d47-481f-9f18-32df1362e087",
   "metadata": {},
   "source": [
    "## 7:ans:-"
   ]
  },
  {
   "cell_type": "code",
   "execution_count": 3,
   "id": "03b17019-4982-484d-963e-2878a7a47230",
   "metadata": {},
   "outputs": [],
   "source": [
    "def find_minimum(nums):\n",
    "    low = 0\n",
    "    high = len(nums) - 1\n",
    "\n",
    "    while low < high:\n",
    "        mid = (low + high) // 2\n",
    "\n",
    "        if nums[mid] > nums[high]:\n",
    "            low = mid + 1\n",
    "        else:\n",
    "            high = mid\n",
    "\n",
    "    return nums[low]\n"
   ]
  },
  {
   "cell_type": "markdown",
   "id": "9710cd2e-0f32-4cc5-907c-f3ca518c3f4f",
   "metadata": {},
   "source": [
    "## 8:ans:-"
   ]
  },
  {
   "cell_type": "code",
   "execution_count": 4,
   "id": "7d088759-44a8-42d3-a8ec-5f6dba79e0dd",
   "metadata": {},
   "outputs": [],
   "source": [
    "from typing import List\n",
    "import random\n",
    "\n",
    "def find_original_array(changed: List[int]) -> List[int]:\n",
    "    if len(changed) % 2 != 0:\n",
    "        return []  # Not a doubled array\n",
    "    \n",
    "    original_set = set(changed)  # Convert changed to a set\n",
    "\n",
    "    for num in changed:\n",
    "        if num/2 not in original_set:\n",
    "            return []  # Not a doubled array\n",
    "        original_set.remove(num/2)\n",
    "\n",
    "    return list(original_set)  # Convert the set back to a list\n"
   ]
  },
  {
   "cell_type": "code",
   "execution_count": null,
   "id": "1dc9d2b1-a432-48e9-8300-2ec61a1ed4e2",
   "metadata": {},
   "outputs": [],
   "source": []
  },
  {
   "cell_type": "code",
   "execution_count": null,
   "id": "4a65daa2-f4bc-4fc9-b8d2-13000014e891",
   "metadata": {},
   "outputs": [],
   "source": []
  },
  {
   "cell_type": "code",
   "execution_count": null,
   "id": "cbe78e0c-350b-455c-bacb-7b4afcaf2920",
   "metadata": {},
   "outputs": [],
   "source": []
  },
  {
   "cell_type": "code",
   "execution_count": null,
   "id": "f23bf0a9-57bc-48ae-814c-92581295ad75",
   "metadata": {},
   "outputs": [],
   "source": []
  },
  {
   "cell_type": "code",
   "execution_count": null,
   "id": "41b5f86f-44c8-46b5-bdfc-cf22f6f68e05",
   "metadata": {},
   "outputs": [],
   "source": []
  }
 ],
 "metadata": {
  "kernelspec": {
   "display_name": "Python 3 (ipykernel)",
   "language": "python",
   "name": "python3"
  },
  "language_info": {
   "codemirror_mode": {
    "name": "ipython",
    "version": 3
   },
   "file_extension": ".py",
   "mimetype": "text/x-python",
   "name": "python",
   "nbconvert_exporter": "python",
   "pygments_lexer": "ipython3",
   "version": "3.10.8"
  }
 },
 "nbformat": 4,
 "nbformat_minor": 5
}
