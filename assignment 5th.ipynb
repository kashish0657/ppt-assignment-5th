{
 "cells": [
  {
   "cell_type": "markdown",
   "id": "70a4927c-c05a-499a-88c5-aa5677b95778",
   "metadata": {},
   "source": [
    "## PPT assignment 5th"
   ]
  },
  {
   "cell_type": "markdown",
   "id": "a4b07adc-3e1e-4c37-8697-e44911a114e5",
   "metadata": {},
   "source": [
    "## 1:ans:-"
   ]
  },
  {
   "cell_type": "code",
   "execution_count": 1,
   "id": "e92150d1-88cf-4794-82fd-2c39be48c6a4",
   "metadata": {},
   "outputs": [],
   "source": [
    "def convert_to_2d(original, m, n):\n",
    "    if len(original) != m * n:\n",
    "        return [[]]  # Return empty 2D array\n",
    "\n",
    "    result = [[0] * n for _ in range(m)]\n",
    "    for i in range(len(original)):\n",
    "        row = i // n  # Integer division to determine the row index\n",
    "        col = i % n   # Modulo operation to determine the column index\n",
    "        result[row][col] = original[i]\n",
    "\n",
    "    return result\n"
   ]
  },
  {
   "cell_type": "code",
   "execution_count": 2,
   "id": "6eb012c3-6145-40cd-afe4-4aaf57feca61",
   "metadata": {},
   "outputs": [
    {
     "name": "stdout",
     "output_type": "stream",
     "text": [
      "[[1, 2, 3], [4, 5, 6]]\n"
     ]
    }
   ],
   "source": [
    "original = [1, 2, 3, 4, 5, 6]\n",
    "m = 2\n",
    "n = 3\n",
    "print(convert_to_2d(original, m, n))\n"
   ]
  },
  {
   "cell_type": "markdown",
   "id": "fb9e7ea7-1ba9-4c20-aaf3-dc4d770b014f",
   "metadata": {},
   "source": [
    "## 2:ans:-"
   ]
  },
  {
   "cell_type": "code",
   "execution_count": 3,
   "id": "c4d405f7-4f41-4e80-92cd-5cd998871e03",
   "metadata": {},
   "outputs": [],
   "source": [
    "def count_complete_rows(n):\n",
    "    k = 0\n",
    "    total_coins = 0\n",
    "\n",
    "    while total_coins <= n:\n",
    "        k += 1\n",
    "        total_coins += k\n",
    "\n",
    "    return k - 1"
   ]
  },
  {
   "cell_type": "code",
   "execution_count": 4,
   "id": "78f21a80-3afe-4027-ab52-251bfeaaa646",
   "metadata": {},
   "outputs": [
    {
     "name": "stdout",
     "output_type": "stream",
     "text": [
      "4\n"
     ]
    }
   ],
   "source": [
    "n = 10\n",
    "result = count_complete_rows(n)\n",
    "print(result)  \n"
   ]
  },
  {
   "cell_type": "markdown",
   "id": "d396aa92-7a6f-478e-ab9f-336ebb4b7aa9",
   "metadata": {},
   "source": [
    "## 3:ans:-"
   ]
  },
  {
   "cell_type": "code",
   "execution_count": 5,
   "id": "b255cafb-e7ba-468e-92f3-0b7c9aa0e693",
   "metadata": {},
   "outputs": [],
   "source": [
    "def sortedSquares(nums):\n",
    "    result = []\n",
    "    for num in nums:\n",
    "        result.append(num * num)\n",
    "    result.sort()\n",
    "    return result"
   ]
  },
  {
   "cell_type": "code",
   "execution_count": 6,
   "id": "17f439b3-eec3-48c3-a694-6e852bb647a6",
   "metadata": {},
   "outputs": [
    {
     "name": "stdout",
     "output_type": "stream",
     "text": [
      "[0, 1, 9, 16, 100]\n"
     ]
    }
   ],
   "source": [
    "nums = [-4, -1, 0, 3, 10]\n",
    "squared_nums = sortedSquares(nums)\n",
    "print(squared_nums)\n"
   ]
  },
  {
   "cell_type": "markdown",
   "id": "0087f03c-a7b2-40be-9139-de92be8cff82",
   "metadata": {},
   "source": [
    "## 4:ans:-"
   ]
  },
  {
   "cell_type": "code",
   "execution_count": 7,
   "id": "84b24350-d4af-4cc8-9b0c-5c4e261528dc",
   "metadata": {},
   "outputs": [],
   "source": [
    "def find_disjoint_integers(nums1, nums2):\n",
    "    set1 = set(nums1)\n",
    "    set2 = set(nums2)\n",
    "\n",
    "    distinct_nums1 = list(set1 - set2)\n",
    "    distinct_nums2 = list(set2 - set1)\n",
    "\n",
    "    return [distinct_nums1, distinct_nums2]\n"
   ]
  },
  {
   "cell_type": "code",
   "execution_count": 8,
   "id": "dc1e01a9-708f-4038-b868-e479cce21969",
   "metadata": {},
   "outputs": [
    {
     "name": "stdout",
     "output_type": "stream",
     "text": [
      "[[1, 2, 3], [8, 6, 7]]\n"
     ]
    }
   ],
   "source": [
    "nums1 = [1, 2, 3, 4, 5]\n",
    "nums2 = [4, 5, 6, 7, 8]\n",
    "answer = find_disjoint_integers(nums1, nums2)\n",
    "print(answer)"
   ]
  },
  {
   "cell_type": "markdown",
   "id": "e291ca08-6590-4151-9157-fe852e7ad360",
   "metadata": {},
   "source": [
    "## 5:ans:-"
   ]
  },
  {
   "cell_type": "code",
   "execution_count": 9,
   "id": "8cd89bbf-234b-4e26-a025-0d3e306f2e4d",
   "metadata": {},
   "outputs": [],
   "source": [
    "def distance_value(arr1, arr2, d):\n",
    "    distance = 0\n",
    "    for num1 in arr1:\n",
    "        for num2 in arr2:\n",
    "            if abs(num1 - num2) <= d:\n",
    "                break\n",
    "        else:\n",
    "            distance += 1\n",
    "    return distance"
   ]
  },
  {
   "cell_type": "code",
   "execution_count": 10,
   "id": "926fca6f-2b4b-4945-9fe6-815db64eb363",
   "metadata": {},
   "outputs": [
    {
     "name": "stdout",
     "output_type": "stream",
     "text": [
      "3\n"
     ]
    }
   ],
   "source": [
    "arr1 = [1, 2, 3, 4, 5]\n",
    "arr2 = [6, 7, 8, 9, 10]\n",
    "d = 2\n",
    "\n",
    "result = distance_value(arr1, arr2, d)\n",
    "print(result)\n"
   ]
  },
  {
   "cell_type": "markdown",
   "id": "1ba645e4-3bda-4f59-b481-fe758d3c5294",
   "metadata": {},
   "source": [
    "## 6:ans:-"
   ]
  },
  {
   "cell_type": "code",
   "execution_count": 11,
   "id": "f2f0ac0b-dded-45d4-8b91-58e047dfe980",
   "metadata": {},
   "outputs": [],
   "source": [
    "def findDuplicates(nums):\n",
    "    duplicates = []\n",
    "\n",
    "    for i in range(len(nums)):\n",
    "        index = abs(nums[i]) - 1\n",
    "        if nums[index] > 0:\n",
    "            nums[index] *= -1\n",
    "        else:\n",
    "            duplicates.append(abs(nums[i]))\n",
    "\n",
    "    return duplicates\n"
   ]
  },
  {
   "cell_type": "code",
   "execution_count": 12,
   "id": "8edd5117-4e7d-4d31-a512-a97b0886da10",
   "metadata": {},
   "outputs": [
    {
     "name": "stdout",
     "output_type": "stream",
     "text": [
      "[2, 3]\n"
     ]
    }
   ],
   "source": [
    "nums = [4, 3, 2, 7, 8, 2, 3, 1]\n",
    "print(findDuplicates(nums))"
   ]
  },
  {
   "cell_type": "markdown",
   "id": "172eb22d-ebbe-48fe-8126-be1e718dfe20",
   "metadata": {},
   "source": [
    "## 7:ans:-"
   ]
  },
  {
   "cell_type": "code",
   "execution_count": 13,
   "id": "eaf7c4d8-cffb-4208-8a4f-1aa149f21550",
   "metadata": {},
   "outputs": [],
   "source": [
    "def find_minimum(nums):\n",
    "    low = 0\n",
    "    high = len(nums) - 1\n",
    "\n",
    "    while low < high:\n",
    "        mid = (low + high) // 2\n",
    "\n",
    "        if nums[mid] > nums[high]:\n",
    "            low = mid + 1\n",
    "        else:\n",
    "            high = mid\n",
    "\n",
    "    return nums[low]\n"
   ]
  },
  {
   "cell_type": "markdown",
   "id": "bb990e8c-ad5f-4b3e-8795-c243813e1603",
   "metadata": {},
   "source": [
    "## 8:ans:-"
   ]
  },
  {
   "cell_type": "code",
   "execution_count": 14,
   "id": "08311f4a-30a0-436e-ab3b-0f5b89e8c57b",
   "metadata": {},
   "outputs": [],
   "source": [
    "from typing import List\n",
    "import random\n",
    "\n",
    "def find_original_array(changed: List[int]) -> List[int]:\n",
    "    if len(changed) % 2 != 0:\n",
    "        return []  # Not a doubled array\n",
    "    \n",
    "    original_set = set(changed)  # Convert changed to a set\n",
    "\n",
    "    for num in changed:\n",
    "        if num/2 not in original_set:\n",
    "            return []  # Not a doubled array\n",
    "        original_set.remove(num/2)\n",
    "\n",
    "    return list(original_set)  # Convert the set back to a list\n"
   ]
  },
  {
   "cell_type": "code",
   "execution_count": null,
   "id": "29c097d8-c668-4ff5-9bb5-03057704d149",
   "metadata": {},
   "outputs": [],
   "source": []
  },
  {
   "cell_type": "code",
   "execution_count": null,
   "id": "4c0bda92-ff5e-4592-89a7-d6667163a30d",
   "metadata": {},
   "outputs": [],
   "source": []
  },
  {
   "cell_type": "code",
   "execution_count": null,
   "id": "4b1ad350-569b-4fbc-ba69-de9f89867dbc",
   "metadata": {},
   "outputs": [],
   "source": []
  },
  {
   "cell_type": "code",
   "execution_count": null,
   "id": "664560d4-fc97-442e-8b3e-d7d8b750e9e0",
   "metadata": {},
   "outputs": [],
   "source": []
  },
  {
   "cell_type": "code",
   "execution_count": null,
   "id": "bc1927dc-ff02-45fc-8f53-e1e915a4a84d",
   "metadata": {},
   "outputs": [],
   "source": []
  },
  {
   "cell_type": "code",
   "execution_count": null,
   "id": "8e6ae51a-9fe5-4db5-b4a2-7032efdcb84d",
   "metadata": {},
   "outputs": [],
   "source": []
  }
 ],
 "metadata": {
  "kernelspec": {
   "display_name": "Python 3 (ipykernel)",
   "language": "python",
   "name": "python3"
  },
  "language_info": {
   "codemirror_mode": {
    "name": "ipython",
    "version": 3
   },
   "file_extension": ".py",
   "mimetype": "text/x-python",
   "name": "python",
   "nbconvert_exporter": "python",
   "pygments_lexer": "ipython3",
   "version": "3.10.8"
  }
 },
 "nbformat": 4,
 "nbformat_minor": 5
}
